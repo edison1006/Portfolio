{
 "cells": [
  {
   "cell_type": "markdown",
   "id": "0bef1411",
   "metadata": {},
   "source": [
    "# NZ Job Market Analysis (Tech Roles)\n",
    "\n",
    "This notebook performs an exploratory analysis on New Zealand's tech job postings.\n",
    "Replace `data/jobs_sample.csv` with your real dataset when ready.\n"
   ]
  },
  {
   "cell_type": "code",
   "execution_count": null,
   "id": "428d0b89",
   "metadata": {},
   "outputs": [],
   "source": [
    "# Setup\n",
    "import pandas as pd\n",
    "import matplotlib.pyplot as plt\n",
    "import pathlib\n",
    "from datetime import datetime\n",
    "from src.utils import normalize_city, salary_midpoint\n",
    "\n",
    "DATA_PATH = pathlib.Path('data/jobs_sample.csv')\n",
    "df = pd.read_csv(DATA_PATH, parse_dates=['date_posted'])\n",
    "print(df.head())"
   ]
  },
  {
   "cell_type": "markdown",
   "id": "6e67c2df",
   "metadata": {},
   "source": [
    "## Cleaning"
   ]
  },
  {
   "cell_type": "code",
   "execution_count": null,
   "id": "541bd050",
   "metadata": {},
   "outputs": [],
   "source": [
    "# Basic cleaning\n",
    "df['city'] = df['city'].apply(normalize_city)\n",
    "df['seniority'] = df['seniority'].str.title()\n",
    "df['salary_mid'] = df.apply(salary_midpoint, axis=1)\n",
    "df['skills_list'] = df['skills'].fillna('').apply(lambda s: [x.strip() for x in str(s).split(';') if x.strip()])\n",
    "\n",
    "print(df.isna().sum())\n",
    "df.head()"
   ]
  },
  {
   "cell_type": "markdown",
   "id": "02416ab2",
   "metadata": {},
   "source": [
    "## Overview: Roles and Locations"
   ]
  },
  {
   "cell_type": "code",
   "execution_count": null,
   "id": "e4dc27ba",
   "metadata": {},
   "outputs": [],
   "source": [
    "# Role counts\n",
    "role_counts = df['role'].value_counts().sort_values(ascending=False)\n",
    "print(role_counts)\n",
    "\n",
    "plt.figure()\n",
    "role_counts.plot(kind='bar')\n",
    "plt.title('Role Counts')\n",
    "plt.xlabel('Role')\n",
    "plt.ylabel('Count')\n",
    "plt.tight_layout()\n",
    "plt.show()"
   ]
  },
  {
   "cell_type": "code",
   "execution_count": null,
   "id": "0d335dec",
   "metadata": {},
   "outputs": [],
   "source": [
    "# City counts\n",
    "city_counts = df['city'].value_counts().sort_values(ascending=False)\n",
    "print(city_counts)\n",
    "\n",
    "plt.figure()\n",
    "city_counts.plot(kind='bar')\n",
    "plt.title('City Counts')\n",
    "plt.xlabel('City')\n",
    "plt.ylabel('Count')\n",
    "plt.tight_layout()\n",
    "plt.show()"
   ]
  },
  {
   "cell_type": "markdown",
   "id": "ce723566",
   "metadata": {},
   "source": [
    "## Salary Distributions"
   ]
  },
  {
   "cell_type": "code",
   "execution_count": null,
   "id": "9af5f084",
   "metadata": {},
   "outputs": [],
   "source": [
    "# Salary midpoint by role\n",
    "salary_by_role = df.groupby('role')['salary_mid'].describe()\n",
    "print(salary_by_role)\n",
    "\n",
    "plt.figure()\n",
    "df.boxplot(column='salary_mid', by='role', rot=45)\n",
    "plt.title('Salary Midpoint by Role')\n",
    "plt.suptitle('')\n",
    "plt.xlabel('Role')\n",
    "plt.ylabel('Salary (NZD)')\n",
    "plt.tight_layout()\n",
    "plt.show()"
   ]
  },
  {
   "cell_type": "markdown",
   "id": "131f4104",
   "metadata": {},
   "source": [
    "## Skills Frequency"
   ]
  },
  {
   "cell_type": "code",
   "execution_count": null,
   "id": "2e7393ee",
   "metadata": {},
   "outputs": [],
   "source": [
    "# Flatten skills\n",
    "from collections import Counter\n",
    "skills = Counter([skill for row in df['skills_list'] for skill in row])\n",
    "top_skills = pd.Series(dict(skills.most_common(10)))\n",
    "\n",
    "print(top_skills)\n",
    "\n",
    "plt.figure()\n",
    "top_skills.plot(kind='bar')\n",
    "plt.title('Top Skills (Top 10)')\n",
    "plt.xlabel('Skill')\n",
    "plt.ylabel('Frequency')\n",
    "plt.tight_layout()\n",
    "plt.show()"
   ]
  },
  {
   "cell_type": "markdown",
   "id": "1a6c6eac",
   "metadata": {},
   "source": [
    "## Time Trend (Postings per Day)"
   ]
  },
  {
   "cell_type": "code",
   "execution_count": null,
   "id": "1d433e17",
   "metadata": {},
   "outputs": [],
   "source": [
    "# Postings over time\n",
    "daily = df.groupby('date_posted').size()\n",
    "print(daily)\n",
    "\n",
    "plt.figure()\n",
    "daily.plot(kind='line', marker='o')\n",
    "plt.title('Job Postings Over Time')\n",
    "plt.xlabel('Date')\n",
    "plt.ylabel('Count')\n",
    "plt.tight_layout()\n",
    "plt.show()"
   ]
  },
  {
   "cell_type": "markdown",
   "id": "0d0c928f",
   "metadata": {},
   "source": [
    "## Save Outputs"
   ]
  },
  {
   "cell_type": "code",
   "execution_count": null,
   "id": "ea742524",
   "metadata": {},
   "outputs": [],
   "source": [
    "# Save cleaned dataset & figures (optional)\n",
    "import os, pathlib\n",
    "out_data = pathlib.Path('data/processed')\n",
    "fig_dir = pathlib.Path('figures')\n",
    "out_data.mkdir(parents=True, exist_ok=True)\n",
    "fig_dir.mkdir(parents=True, exist_ok=True)\n",
    "\n",
    "df.to_csv(out_data / 'jobs_cleaned.csv', index=False)\n",
    "print('Saved:', out_data / 'jobs_cleaned.csv')"
   ]
  }
 ],
 "metadata": {},
 "nbformat": 4,
 "nbformat_minor": 5
}
